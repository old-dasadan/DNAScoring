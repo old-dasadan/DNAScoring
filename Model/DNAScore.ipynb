{
 "cells": [
  {
   "cell_type": "code",
   "execution_count": null,
   "metadata": {},
   "outputs": [],
   "source": [
    "import os, glob\n",
    "import random, csv\n",
    "import tensorflow as tf\n",
    "\n",
    "def load_csv(root, filename):\n",
    "    #return seqs+scores from csv file\n",
    "    if not os.path.exists(os.path.join(root, filename)):\n",
    "        #if not exist, create\n",
    "        seqwithscores = []\n",
    "        for index in range(100, 200):\n",
    "            with open(os.path.join(root, \"rand_dna_seq_result_\" + str(index) + \".csv\"), 'r',encoding='utf-8-sig') as f_input:\n",
    "                for line in f_input:\n",
    "                    seqwithscores.append(line)\n",
    "        #break up sequences\n",
    "        random.shuffle(seqwithscores)\n",
    "        #create csv file\n",
    "        with open(os.path.join(root, filename), 'w', newline = '') as ex:\n",
    "            writer = csv.writer(ex)\n",
    "            for item in seqwithscores:\n",
    "                writer.writerow(item)\n",
    "                \n",
    "    #csv file existing, read seqs+scores\n",
    "    seqs, scores = [], []\n",
    "    with open(os.path.join(root, filename)) as f:\n",
    "        reader = csv.reader(f)\n",
    "        for row in reader:\n",
    "            score, seq = row\n",
    "            score = int(score)\n",
    "            seqs.append(seq)\n",
    "            scores.append(score)\n",
    "    return seqs, scores\n",
    "\n",
    "def load_DNAScore(root, model = 'train'):\n",
    "    #read seqs+scores\n",
    "    seqs, scores = load_csv(root, 'DNAScore.csv')\n",
    "    #dataset division\n",
    "    if mode == 'train':  # 60%\n",
    "        seqs = seqs[:int(0.6 * len(images))]\n",
    "        scores = scores[:int(0.6 * len(labels))]\n",
    "    elif mode == 'val':  # 20% = 60%->80%\n",
    "        seqs = seqs[int(0.6 * len(images)):int(0.8 * len(images))]\n",
    "        scores = scores[int(0.6 * len(labels)):int(0.8 * len(labels))]\n",
    "    else:  # 20% = 80%->100%\n",
    "        seqs = seqs[int(0.8 * len(images)):]\n",
    "        scores = scores[int(0.8 * len(labels)):]\n",
    "    return seqs, scores\n"
   ]
  }
 ],
 "metadata": {
  "kernelspec": {
   "display_name": "Python 3",
   "language": "python",
   "name": "python3"
  },
  "language_info": {
   "codemirror_mode": {
    "name": "ipython",
    "version": 3
   },
   "file_extension": ".py",
   "mimetype": "text/x-python",
   "name": "python",
   "nbconvert_exporter": "python",
   "pygments_lexer": "ipython3",
   "version": "3.8.8"
  }
 },
 "nbformat": 4,
 "nbformat_minor": 4
}
